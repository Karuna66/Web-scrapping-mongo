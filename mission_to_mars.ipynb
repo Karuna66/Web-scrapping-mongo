{
 "cells": [
  {
   "cell_type": "code",
   "execution_count": 1,
   "metadata": {},
   "outputs": [],
   "source": [
    "from splinter import Browser\n",
    "from bs4 import BeautifulSoup as bs\n",
    "import time"
   ]
  },
  {
   "cell_type": "code",
   "execution_count": 2,
   "metadata": {},
   "outputs": [],
   "source": [
    "#executable_path = {'executable_path': 'chromedriver'}\n",
    "\n",
    "executable_path = {'executable_path':'C:/Users/gairo/Downloads/chromedriver.exe'}\n",
    "browser = Browser('chrome', **executable_path, headless=False)\n",
    "  "
   ]
  },
  {
   "cell_type": "code",
   "execution_count": 3,
   "metadata": {},
   "outputs": [],
   "source": [
    "#-visiting first url\n",
    "url='https://mars.nasa.gov/news/'\n",
    "browser.visit(url)\n",
    "html=browser.html\n",
    "soup=bs(html,\"html.parser\")\n",
    "\n",
    "    "
   ]
  },
  {
   "cell_type": "code",
   "execution_count": 4,
   "metadata": {},
   "outputs": [
    {
     "name": "stdout",
     "output_type": "stream",
     "text": [
      " Latest news: Curiosity Tastes First Sample in 'Clay-Bearing Unit' \n",
      " Paragraph: This new region on Mars might reveal more about the role of water on Mount Sharp.\n"
     ]
    }
   ],
   "source": [
    "result=soup.find('div',class_='list_text')\n",
    "news_title=result.find('div',class_='content_title').a.get_text()\n",
    "news_para=result.find('div',class_='article_teaser_body').get_text()\n",
    "print(f' Latest news: {news_title} \\n Paragraph: {news_para}')"
   ]
  },
  {
   "cell_type": "code",
   "execution_count": 5,
   "metadata": {},
   "outputs": [
    {
     "data": {
      "text/plain": [
       "'https://www.jpl.nasa.gov/spaceimages/images/largesize/PIA00271_hires.jpg'"
      ]
     },
     "execution_count": 5,
     "metadata": {},
     "output_type": "execute_result"
    }
   ],
   "source": [
    "#visiting secong url\n",
    "url='https://www.jpl.nasa.gov/spaceimages/?search=&category=Mars'\n",
    "browser.visit(url)\n",
    "# time.sleep(1)\n",
    "base_url=url.split('/spaceimages')[0]\n",
    "\n",
    "browser.is_element_present_by_id('full_image')\n",
    "browser.click_link_by_id('full_image')\n",
    "browser.is_element_present_by_text('more info')\n",
    "browser.click_link_by_partial_text('more info')\n",
    "html=browser.html\n",
    "soup=bs(html,\"lxml\")\n",
    "image_=soup.find('figure',class_='lede').a['href']\n",
    "image_=soup.find('figure',class_='lede').a['href']\n",
    "featured_image_url=base_url+image_\n",
    "\n",
    "featured_image_url"
   ]
  },
  {
   "cell_type": "code",
   "execution_count": 6,
   "metadata": {},
   "outputs": [],
   "source": [
    "#visiting third url\n",
    "url='https://twitter.com/marswxreport?lang=en'\n",
    "browser.visit(url)\n",
    "html=browser.html\n",
    "soup=bs(html,'lxml')"
   ]
  },
  {
   "cell_type": "code",
   "execution_count": 7,
   "metadata": {},
   "outputs": [
    {
     "data": {
      "text/plain": [
       "'InSight sol 133 (2019-04-11) low -96.8ºC (-142.3ºF) high -15.7ºC (3.8ºF)\\nwinds from the W at 4.2 m/s (9.3 mph) gusting to 11.7 m/s (26.2 mph)\\npressure at 7.30 hPapic.twitter.com/kmh5FXGbBL'"
      ]
     },
     "execution_count": 7,
     "metadata": {},
     "output_type": "execute_result"
    }
   ],
   "source": [
    "mars_weather=soup.find('div',class_='js-tweet-text-container').p.get_text()\n",
    "mars_weather"
   ]
  },
  {
   "cell_type": "code",
   "execution_count": 8,
   "metadata": {},
   "outputs": [
    {
     "data": {
      "text/html": [
       "<div>\n",
       "<style scoped>\n",
       "    .dataframe tbody tr th:only-of-type {\n",
       "        vertical-align: middle;\n",
       "    }\n",
       "\n",
       "    .dataframe tbody tr th {\n",
       "        vertical-align: top;\n",
       "    }\n",
       "\n",
       "    .dataframe thead th {\n",
       "        text-align: right;\n",
       "    }\n",
       "</style>\n",
       "<table border=\"1\" class=\"dataframe\">\n",
       "  <thead>\n",
       "    <tr style=\"text-align: right;\">\n",
       "      <th></th>\n",
       "      <th>description</th>\n",
       "      <th>values</th>\n",
       "    </tr>\n",
       "  </thead>\n",
       "  <tbody>\n",
       "    <tr>\n",
       "      <th>0</th>\n",
       "      <td>Equatorial Diameter:</td>\n",
       "      <td>6,792 km</td>\n",
       "    </tr>\n",
       "    <tr>\n",
       "      <th>1</th>\n",
       "      <td>Polar Diameter:</td>\n",
       "      <td>6,752 km</td>\n",
       "    </tr>\n",
       "    <tr>\n",
       "      <th>2</th>\n",
       "      <td>Mass:</td>\n",
       "      <td>6.42 x 10^23 kg (10.7% Earth)</td>\n",
       "    </tr>\n",
       "    <tr>\n",
       "      <th>3</th>\n",
       "      <td>Moons:</td>\n",
       "      <td>2 (Phobos &amp; Deimos)</td>\n",
       "    </tr>\n",
       "    <tr>\n",
       "      <th>4</th>\n",
       "      <td>Orbit Distance:</td>\n",
       "      <td>227,943,824 km (1.52 AU)</td>\n",
       "    </tr>\n",
       "  </tbody>\n",
       "</table>\n",
       "</div>"
      ],
      "text/plain": [
       "            description                         values\n",
       "0  Equatorial Diameter:                       6,792 km\n",
       "1       Polar Diameter:                       6,752 km\n",
       "2                 Mass:  6.42 x 10^23 kg (10.7% Earth)\n",
       "3                Moons:            2 (Phobos & Deimos)\n",
       "4       Orbit Distance:       227,943,824 km (1.52 AU)"
      ]
     },
     "execution_count": 8,
     "metadata": {},
     "output_type": "execute_result"
    }
   ],
   "source": [
    "# visiting fourth url\n",
    "import pandas as pd\n",
    "url='https://space-facts.com/mars/'\n",
    "tables=pd.read_html(url)\n",
    "len(tables)\n",
    "df=tables[0]\n",
    "df.columns=[\"description\",\"values\"]\n",
    "df.head()"
   ]
  },
  {
   "cell_type": "code",
   "execution_count": 9,
   "metadata": {},
   "outputs": [],
   "source": [
    "#converting the pandas to a html string\n",
    "html_table_string=df.to_html(index=False)\n",
    "html_table_string=html_table_string.replace('\\n',\"\")\n"
   ]
  },
  {
   "cell_type": "code",
   "execution_count": 10,
   "metadata": {},
   "outputs": [],
   "source": [
    "#visitng 5th url & creating list of dict of  found items\n",
    "url='https://astrogeology.usgs.gov/search/results?q=hemisphere+enhanced&k1=target&v1=Mars'\n",
    "browser.visit(url)\n",
    "html=browser.html\n",
    "soup=bs(html,'lxml')\n",
    "mars_url_first_part=url.split('/search')[0]\n"
   ]
  },
  {
   "cell_type": "code",
   "execution_count": 11,
   "metadata": {},
   "outputs": [
    {
     "name": "stdout",
     "output_type": "stream",
     "text": [
      "=================\n",
      "http://astropedia.astrogeology.usgs.gov/download/Mars/Viking/cerberus_enhanced.tif/full.jpg\n",
      "Cerberus Hemisphere Enhanced\n",
      "=================\n",
      "http://astropedia.astrogeology.usgs.gov/download/Mars/Viking/schiaparelli_enhanced.tif/full.jpg\n",
      "Schiaparelli Hemisphere Enhanced\n",
      "=================\n",
      "http://astropedia.astrogeology.usgs.gov/download/Mars/Viking/syrtis_major_enhanced.tif/full.jpg\n",
      "Syrtis Major Hemisphere Enhanced\n",
      "=================\n",
      "http://astropedia.astrogeology.usgs.gov/download/Mars/Viking/valles_marineris_enhanced.tif/full.jpg\n",
      "Valles Marineris Hemisphere Enhanced\n"
     ]
    }
   ],
   "source": [
    "hemisphere_image_urls=[]\n",
    "results=soup.find_all('a',class_='itemLink product-item')\n",
    "for x in range(0,len(results),2):\n",
    "    try:\n",
    "        mars_item_url=results[x]['href']\n",
    "     \n",
    "        mars_url=mars_url_first_part + mars_item_url\n",
    "        browser.visit(mars_url)\n",
    "        \n",
    "        mars_html=browser.html\n",
    "        mars_soup=bs(mars_html,'lxml')\n",
    "        mars_title=mars_soup.find('section',class_='block metadata').find('h2',class_='title').get_text()\n",
    "        get_url=browser.find_link_by_text(\"Sample\").first\n",
    "        mars_url=get_url['href']\n",
    "        \n",
    "        if mars_url and mars_title:\n",
    "            print(\"=================\")\n",
    "            print(mars_url)\n",
    "            print(mars_title)\n",
    "            \n",
    "            hemisphere_image_url = {\n",
    "                'title':mars_title,\n",
    "                'img_url':mars_url,\n",
    "            }\n",
    "            hemisphere_image_urls.append(hemisphere_image_url)\n",
    "         \n",
    "    except Exception as e:\n",
    "            pass\n"
   ]
  },
  {
   "cell_type": "code",
   "execution_count": null,
   "metadata": {},
   "outputs": [],
   "source": [
    "browser.quit()"
   ]
  },
  {
   "cell_type": "code",
   "execution_count": null,
   "metadata": {
    "scrolled": true
   },
   "outputs": [],
   "source": []
  },
  {
   "cell_type": "code",
   "execution_count": null,
   "metadata": {},
   "outputs": [],
   "source": []
  },
  {
   "cell_type": "code",
   "execution_count": null,
   "metadata": {},
   "outputs": [],
   "source": [
    "\n"
   ]
  },
  {
   "cell_type": "code",
   "execution_count": null,
   "metadata": {},
   "outputs": [],
   "source": []
  }
 ],
 "metadata": {
  "kernelspec": {
   "display_name": "Python [conda env:PythonData]",
   "language": "python",
   "name": "pythondata"
  },
  "language_info": {
   "codemirror_mode": {
    "name": "ipython",
    "version": 3
   },
   "file_extension": ".py",
   "mimetype": "text/x-python",
   "name": "python",
   "nbconvert_exporter": "python",
   "pygments_lexer": "ipython3",
   "version": "3.7.2"
  }
 },
 "nbformat": 4,
 "nbformat_minor": 2
}
